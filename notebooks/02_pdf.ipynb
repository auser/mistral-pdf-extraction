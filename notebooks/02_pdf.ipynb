{
 "cells": [
  {
   "cell_type": "code",
   "execution_count": 1,
   "metadata": {},
   "outputs": [],
   "source": [
    "%reload_ext autoreload\n",
    "%autoreload 2"
   ]
  },
  {
   "cell_type": "code",
   "execution_count": 9,
   "metadata": {},
   "outputs": [],
   "source": [
    "import box\n",
    "import yaml, os\n",
    "from langchain.vectorstores import FAISS\n",
    "from langchain.text_splitter import RecursiveCharacterTextSplitter\n",
    "from langchain.document_loaders import PyPDFLoader, DirectoryLoader\n",
    "from langchain.embeddings import HuggingFaceEmbeddings\n",
    "\n",
    "from exteract.paths import BASE_DIR\n",
    "\n",
    "# Import config vars\n",
    "with open(BASE_DIR / \"config.yml\", \"r\", encoding=\"utf8\") as ymlfile:\n",
    "    cfg = box.Box(yaml.safe_load(ymlfile))\n",
    "\n",
    "\n",
    "def run_ingest():\n",
    "    loader = DirectoryLoader(BASE_DIR / cfg.DATA_PATH, glob=\"*.pdf\", loader_cls=PyPDFLoader)\n",
    "\n",
    "    documents = loader.load()\n",
    "    text_splitter = RecursiveCharacterTextSplitter(\n",
    "        chunk_size=cfg.CHUNK_SIZE, chunk_overlap=cfg.CHUNK_OVERLAP\n",
    "    )\n",
    "    texts = text_splitter.split_documents(documents)\n",
    "\n",
    "    embeddings = HuggingFaceEmbeddings(\n",
    "        model_name=cfg.EMBEDDINGS, model_kwargs={\"device\": \"cpu\"}\n",
    "    )\n",
    "\n",
    "    vectorstore = FAISS.from_documents(texts, embeddings)\n",
    "    path = os.path.realpath(BASE_DIR / cfg.DB_FAISS_PATH)\n",
    "    vectorstore.save_local(path)\n",
    "\n",
    "\n",
    "run_ingest()"
   ]
  },
  {
   "cell_type": "code",
   "execution_count": 23,
   "metadata": {},
   "outputs": [
    {
     "name": "stdout",
     "output_type": "stream",
     "text": [
      "\n",
      "Answer: The seller's name is Chapman, Kim and Green.\n",
      "==================================================\n",
      "Time to retrieve data: 29.53804608300004\n"
     ]
    }
   ],
   "source": [
    "import timeit, os\n",
    "from exteract.llm.wrapper import setup_qa_chain\n",
    "\n",
    "qa_chain = setup_qa_chain()\n",
    "start = timeit.default_timer()\n",
    "response = qa_chain({'query': \"What is the seller's name?\"})\n",
    "end = timeit.default_timer()\n",
    "\n",
    "print(f'\\nAnswer: {response[\"result\"]}')\n",
    "print('='*50)\n",
    "\n",
    "print(f\"Time to retrieve data: {end - start}\")"
   ]
  }
 ],
 "metadata": {
  "kernelspec": {
   "display_name": "exteract-RgXByzV8-py3.9",
   "language": "python",
   "name": "python3"
  },
  "language_info": {
   "codemirror_mode": {
    "name": "ipython",
    "version": 3
   },
   "file_extension": ".py",
   "mimetype": "text/x-python",
   "name": "python",
   "nbconvert_exporter": "python",
   "pygments_lexer": "ipython3",
   "version": "3.9.11"
  }
 },
 "nbformat": 4,
 "nbformat_minor": 2
}
